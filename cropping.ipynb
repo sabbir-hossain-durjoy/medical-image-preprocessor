{
 "cells": [
  {
   "cell_type": "code",
   "execution_count": null,
   "id": "a8a1a28e",
   "metadata": {},
   "outputs": [],
   "source": [
    "import os\n",
    "import cv2\n",
    "import pathlib\n",
    "from tqdm import tqdm\n",
    "\n",
    "def crop_sides_folder(input_dir, output_dir, crop_ratios, exts=(\".png\", \".jpg\", \".jpeg\", \".tif\", \".tiff\")):\n",
    "    input_dir = pathlib.Path(input_dir)\n",
    "    output_dir = pathlib.Path(output_dir)\n",
    "    files = [p for p in input_dir.rglob(\"*\") if p.suffix.lower() in exts]\n",
    "\n",
    "    for path in tqdm(files, desc=\"Cropping images\"):\n",
    "        rel = path.relative_to(input_dir)\n",
    "        out_path = output_dir / rel\n",
    "        out_path.parent.mkdir(parents=True, exist_ok=True)\n",
    "\n",
    "        img = cv2.imread(str(path))\n",
    "        if img is None:\n",
    "            print(f\"[WARN] Skipping unreadable: {path}\")\n",
    "            continue\n",
    "\n",
    "        h, w = img.shape[:2]\n",
    "        left = int(w * crop_ratios.get(\"left\", 0))\n",
    "        right = int(w * crop_ratios.get(\"right\", 0))\n",
    "        top = int(h * crop_ratios.get(\"top\", 0))\n",
    "        bottom = int(h * crop_ratios.get(\"bottom\", 0))\n",
    "        cropped = img[top:h - bottom, left:w - right]\n",
    "        cv2.imwrite(str(out_path), cropped)\n",
    "\n",
    "    print(f\"\\n✅ Done! Cropped {len(files)} images → {output_dir}\")\n",
    "\n",
    "from google.colab import drive\n",
    "drive.mount('/content/drive')\n",
    "\n",
    "input_dir = input(\"Enter input folder path: \").strip()\n",
    "output_dir = input(\"Enter output folder path: \").strip()\n",
    "\n",
    "print(\"\\nEnter cropping percentage for each side (0–100). Example: 5 means 5% crop.\")\n",
    "left = float(input(\"Crop from LEFT (%): \") or 0) / 100\n",
    "right = float(input(\"Crop from RIGHT (%): \") or 0) / 100\n",
    "top = float(input(\"Crop from TOP (%): \") or 0) / 100\n",
    "bottom = float(input(\"Crop from BOTTOM (%): \") or 0) / 100\n",
    "\n",
    "crop_ratios = {\"left\": left, \"right\": right, \"top\": top, \"bottom\": bottom}\n",
    "crop_sides_folder(input_dir, output_dir, crop_ratios)\n"
   ]
  }
 ],
 "metadata": {
  "language_info": {
   "name": "python"
  }
 },
 "nbformat": 4,
 "nbformat_minor": 5
}
