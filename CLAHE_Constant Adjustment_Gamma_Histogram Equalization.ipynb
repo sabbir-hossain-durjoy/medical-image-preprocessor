{
 "cells": [
  {
   "cell_type": "code",
   "execution_count": null,
   "id": "16c3a9be",
   "metadata": {},
   "outputs": [],
   "source": [
    "from google.colab import drive\n",
    "drive.mount('/content/drive')\n",
    "\n",
    "import cv2\n",
    "import numpy as np\n",
    "import os\n",
    "from tqdm import tqdm\n",
    "input_folder =  \"/content/drive/MyDrive/dp/data/sabbir\"\n",
    "output_folder =  \"/content/drive/MyDrive/dp/data/CLAHE_ConstantAdjustment_Gamma_HistogramEqualization\"\n",
    "\n",
    "os.makedirs(output_folder, exist_ok=True)\n",
    "\n",
    "def preprocess_pipeline(img_path, save_folder):\n",
    "\n",
    "    img = cv2.imread(img_path, cv2.IMREAD_GRAYSCALE)\n",
    "    if img is None:\n",
    "        return\n",
    "\n",
    "    filename = os.path.basename(img_path).split('.')[0]\n",
    "\n",
    "    # ---- Step 1: CLAHE ----\n",
    "    clahe = cv2.createCLAHE(clipLimit=3.0, tileGridSize=(8,8))\n",
    "    img = clahe.apply(img)\n",
    "\n",
    "    # ---- Step 2: Constant Adjustment ----\n",
    "    alpha, beta = 1.2, 20\n",
    "    img = cv2.convertScaleAbs(img, alpha=alpha, beta=beta)\n",
    "\n",
    "    # ---- Step 3: Gamma Correction ----\n",
    "    gamma = 1.5\n",
    "    gamma_table = np.array([((i / 255.0) ** (1.0/gamma)) * 255\n",
    "                            for i in np.arange(256)]).astype(\"uint8\")\n",
    "    img = cv2.LUT(img, gamma_table)\n",
    "\n",
    "    # ---- Step 4: Histogram Equalization ----\n",
    "    img = cv2.equalizeHist(img)\n",
    "    cv2.imwrite(os.path.join(save_folder, f\"{filename}_processed.png\"), img)\n",
    "\n",
    "\n",
    "\n",
    "all_files = [f for f in os.listdir(input_folder) if f.lower().endswith(('.png','.jpg','.jpeg'))]\n",
    "\n",
    "for file in tqdm(all_files):\n",
    "    preprocess_pipeline(os.path.join(input_folder, file), output_folder)\n",
    "\n",
    "print(\"✅ All images processed and saved in:\", output_folder)\n"
   ]
  }
 ],
 "metadata": {
  "language_info": {
   "name": "python"
  }
 },
 "nbformat": 4,
 "nbformat_minor": 5
}
