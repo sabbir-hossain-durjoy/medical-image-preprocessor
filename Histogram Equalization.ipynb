{
 "cells": [
  {
   "cell_type": "code",
   "execution_count": null,
   "id": "d6f0642e",
   "metadata": {},
   "outputs": [],
   "source": [
    "from google.colab import drive\n",
    "drive.mount('/content/drive')\n",
    "\n",
    "import cv2\n",
    "import os\n",
    "from tqdm import tqdm\n",
    "\n",
    "\n",
    "input_folder = \"/content/drive/MyDrive/dp/data/sabbir\"\n",
    "output_folder = \"/content/drive/MyDrive/dp/data/HistogramEqualization\"\n",
    "\n",
    "\n",
    "os.makedirs(output_folder, exist_ok=True)\n",
    "\n",
    "def preprocess_histogram_equalization(img_path, save_folder):\n",
    "\n",
    "    img = cv2.imread(img_path, cv2.IMREAD_GRAYSCALE)\n",
    "    if img is None:\n",
    "        return\n",
    "    \n",
    "    filename = os.path.basename(img_path).split('.')[0]\n",
    "\n",
    "    img = cv2.equalizeHist(img)\n",
    "\n",
    "   \n",
    "    cv2.imwrite(os.path.join(save_folder, f\"{filename}_histeq.png\"), img)\n",
    "\n",
    "\n",
    "\n",
    "all_files = [f for f in os.listdir(input_folder) if f.lower().endswith(('.png','.jpg','.jpeg'))]\n",
    "\n",
    "for file in tqdm(all_files):\n",
    "    preprocess_histogram_equalization(os.path.join(input_folder, file), output_folder)\n",
    "\n",
    "print(\"✅ All images processed with Histogram Equalization and saved in:\", output_folder)\n"
   ]
  }
 ],
 "metadata": {
  "language_info": {
   "name": "python"
  }
 },
 "nbformat": 4,
 "nbformat_minor": 5
}
