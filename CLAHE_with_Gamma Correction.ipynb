{
 "cells": [
  {
   "cell_type": "code",
   "execution_count": null,
   "id": "45453bd3",
   "metadata": {},
   "outputs": [],
   "source": [
    "from google.colab import drive\n",
    "drive.mount('/content/drive')\n",
    "\n",
    "import cv2\n",
    "import numpy as np\n",
    "import os\n",
    "from tqdm import tqdm\n",
    "\n",
    "input_dir  = \"/content/drive/MyDrive/dp/data/sabbir\"\n",
    "output_dir = \"/content/drive/MyDrive/dp/data/CLAHEGamma\"\n",
    "os.makedirs(output_dir, exist_ok=True)\n",
    "\n",
    "def preprocess_xray(img_path, save_folder, gamma=1.5):\n",
    "\n",
    "    img = cv2.imread(img_path, cv2.IMREAD_GRAYSCALE)\n",
    "    if img is None:\n",
    "        return\n",
    "\n",
    "    filename = os.path.basename(img_path).split('.')[0]\n",
    "\n",
    "\n",
    "    clahe = cv2.createCLAHE(clipLimit=3.0, tileGridSize=(8,8))\n",
    "    img = clahe.apply(img)\n",
    "\n",
    "\n",
    "    gamma_table = np.array([((i / 255.0) ** (1.0/gamma)) * 255\n",
    "                            for i in np.arange(256)]).astype(\"uint8\")\n",
    "    img = cv2.LUT(img, gamma_table)\n",
    "\n",
    "    cv2.imwrite(os.path.join(save_folder, f\"{filename}_processed.png\"), img)\n",
    "\n",
    "\n",
    "\n",
    "all_files = [f for f in os.listdir(input_dir) if f.lower().endswith(('.png','.jpg','.jpeg'))]\n",
    "\n",
    "for file in tqdm(all_files):\n",
    "    preprocess_xray(os.path.join(input_dir, file), output_dir, gamma=1.5)\n",
    "\n",
    "print(\"✅ All images processed with CLAHE + Gamma Correction and saved in:\", output_dir)"
   ]
  }
 ],
 "metadata": {
  "language_info": {
   "name": "python"
  }
 },
 "nbformat": 4,
 "nbformat_minor": 5
}
